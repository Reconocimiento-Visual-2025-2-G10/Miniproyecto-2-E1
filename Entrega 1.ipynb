{
 "cells": [
  {
   "cell_type": "markdown",
   "id": "98900ac9",
   "metadata": {
    "deletable": false,
    "editable": false,
    "nbgrader": {
     "cell_type": "markdown",
     "checksum": "c96d9ad6de3622495283b06807b6e0cf",
     "grade": false,
     "grade_id": "cell-555c0337b97e15d2",
     "locked": true,
     "schema_version": 3,
     "solution": false,
     "task": false
    }
   },
   "source": [
    "# MiniProyecto 2: Segmentación de higado en volumenes MRI\n",
    "\n",
    "## Entrega 1: \n",
    "\n",
    "En el anterior miniproyecto empezamos a relacionarnos con las tareas de la visión por computador y la metodología de investigación, que va desde la visualización y el entendimiento del problema a resolver, pasando por la planeación de experimentos y el pre-procesamiento, para finalizar con el desarrollo de un algoritmo completo y su metodología de evaluación. En el anterior miniproyecto nos centramos en la detección, una tarea de clasificación binaria donde buscamos remarcar o delimitar un objeto en una ventana. Ahora, nos familiarizaremos con la tarea de segmentación, con la que ya pudimos experimentar en la entrega pasada, pero ahora siendo el problema principal y no un vehiculo para la detección. Debemos recordar que la segmentación es una refinación de la tarea de clasificación, donde queremos asignarle a cada pixel una etiqueta, en este caso será una clasificaicón binaria donde la clase 0 es el fondo y la clase 1 será el higado. \n",
    "\n",
    "### Parte 1: Exploración de base de datos\n",
    "\n",
    "Como aprendimos anteriormente, lo primero que debemos hacer es familiarizarnos con la base de datos. En esta ocasión no tenemos imagenes como tal sino volumenes ya que tratamos con imagenes medicas, en conctreto, MRI.\n",
    "\n",
    "#### Parte 1.1: Importación de imagenes y anotaciones\n",
    "\n",
    "Para poder abrir los archivos de MRI debemos usar la libreria **nibabel**. Use las siguientes celdas para cargar todos los volúmenes de la carpeta de entrenamiento de DB. En este caso guardaremos los diferentes volúmenes en diccionarios, donde las llaves de cada volúmenes serán los nombres de árchivo sin la extención. Por ejemplo, para el archivo llamado volume_0.nii, la llave será volume_0.\n",
    "\n",
    "> - **Nota** Para poder abrir los volumenes debe usar la función *load* y la función *get_fdata*. Puede ver un ejemplo en este link https://nipy.org/nibabel/gettingstarted.html.\n",
    "> - **Nota** Por ahora trabajaremos con estos volúmenes pero en la próxima entrega introduciremos más volúmenes para realizar una metodología más completa.\n",
    "> - Si quieren separar los path con el método .split() utilicen el caracter os.sep para obtener el separador del sistema operativo."
   ]
  },
  {
   "cell_type": "code",
   "execution_count": null,
   "id": "bdf3e372",
   "metadata": {
    "deletable": false,
    "editable": false,
    "nbgrader": {
     "cell_type": "code",
     "checksum": "5c621f0caacb8ecbef62d2a92f56abb6",
     "grade": false,
     "grade_id": "cell-ae3c07be061da23b",
     "locked": true,
     "schema_version": 3,
     "solution": false,
     "task": false
    }
   },
   "outputs": [],
   "source": [
    "try:\n",
    "    import nibabel as nib\n",
    "except:\n",
    "    print(\"No se encuentra instalada la librería por lo que procederá a instalarse\")\n",
    "    !pip install nibabel\n",
    "    import nibabel as nib\n",
    "    \n",
    "# Librerías por instalar\n",
    "import os\n",
    "import numpy as np\n",
    "from glob import glob\n",
    "from matplotlib import pyplot as plt\n",
    "\n",
    "from scipy.ndimage import gaussian_filter\n",
    "from scipy.signal import correlate\n",
    "from scipy.ndimage import minimum_filter, maximum_filter, median_filter\n",
    "\n",
    "from skimage.measure import label"
   ]
  },
  {
   "cell_type": "code",
   "execution_count": null,
   "id": "9bc04e21",
   "metadata": {
    "deletable": false,
    "nbgrader": {
     "cell_type": "code",
     "checksum": "1ba4b8ee1dada793359b153307e1b803",
     "grade": false,
     "grade_id": "cell-06681aeb7ffa05c8",
     "locked": false,
     "schema_version": 3,
     "solution": true,
     "task": false
    }
   },
   "outputs": [],
   "source": [
    "vols_path=[] #lista de paths para todos los volúmenes\n",
    "dict_vols={} #diccionario que contendran los volúmenes\n",
    "\n",
    "# YOUR CODE HERE\n",
    "raise NotImplementedError()"
   ]
  },
  {
   "cell_type": "code",
   "execution_count": null,
   "id": "5c454e4d",
   "metadata": {
    "deletable": false,
    "editable": false,
    "nbgrader": {
     "cell_type": "code",
     "checksum": "12203276c4c19118ba2c794c3eed905e",
     "grade": true,
     "grade_id": "cell-d9fb5601ccedf7aa",
     "locked": true,
     "points": 0.4,
     "schema_version": 3,
     "solution": false,
     "task": false
    }
   },
   "outputs": [],
   "source": [
    "assert len(vols_path)==40, f'No extrajo todos los volúmenes deberían ser 40 y tiene {len(vols_path)}'\n",
    "assert 'volume_6' in dict_vols.keys(), f'No llamó de la forma correcta los archivos'\n",
    "assert np.isclose(np.sum(dict_vols['volume_11']),-1676872989.6721125,0.01), f'Para el volumen 11 no se extrajo el volumen correcto'"
   ]
  },
  {
   "cell_type": "markdown",
   "id": "c68e759b",
   "metadata": {
    "deletable": false,
    "editable": false,
    "nbgrader": {
     "cell_type": "markdown",
     "checksum": "168ae24713ad02fba99357404f76b7f6",
     "grade": false,
     "grade_id": "cell-ea20dd29ef1c34aa",
     "locked": true,
     "schema_version": 3,
     "solution": false,
     "task": false
    }
   },
   "source": [
    "#### Parte 1.2 Distribución de la base de datos\n",
    "Ya tenemos distribuido nuestro dataset en diccionarios facilmente accesibles vamos a explorar la distribución de los datos. Al igual que en los problemas de detección, tendremos una distribución de etiquetas dentro de cada dato, recuerden que nuestros datos son volumenes. Use la siguiente celda para encontrar la cantidad de pixeles de cada clase en el volumen de segmentación 0. Tambien saque los porcentages de estas clases. Todo el dataset tiene 3 labels y cada label es un numero, tengalo en cuenta.\n",
    "\n",
    "> **Recomendación:** Use np.unique (busque la documentación) para encontrar los labels de las segmentaciones, sabemos que son numeros pero no que numeros son."
   ]
  },
  {
   "cell_type": "code",
   "execution_count": null,
   "id": "bccfd701",
   "metadata": {
    "deletable": false,
    "nbgrader": {
     "cell_type": "code",
     "checksum": "66cf88ae61c880c5324c5e2663891b64",
     "grade": false,
     "grade_id": "cell-219425899d701541",
     "locked": false,
     "schema_version": 3,
     "solution": true,
     "task": false
    }
   },
   "outputs": [],
   "source": [
    "labels=[] #arreglo con las etiquetas del volumen de segmentación\n",
    "\n",
    "# YOUR CODE HERE\n",
    "raise NotImplementedError()"
   ]
  },
  {
   "cell_type": "code",
   "execution_count": null,
   "id": "479fdcfa",
   "metadata": {
    "deletable": false,
    "nbgrader": {
     "cell_type": "code",
     "checksum": "67d8f57703630abc547325bcf1919582",
     "grade": false,
     "grade_id": "cell-0e170d22341fd2d8",
     "locked": false,
     "schema_version": 3,
     "solution": true,
     "task": false
    }
   },
   "outputs": [],
   "source": [
    "label_0='' #cantidad de voxeles con la etiqueta 0\n",
    "label_1='' #cantidad de voxeles con la etiqueta 1\n",
    "label_2='' #cantidad de voxeles con la etiqueta 2\n",
    "\n",
    "percentage_label_0='' # Porcentaje de voxeles con la etiqueta 0\n",
    "percentage_label_1='' # Porcentaje de voxeles con la etiqueta 1\n",
    "percentage_label_2='' # Porcentaje de voxeles con la etiqueta 2\n",
    "\n",
    "# YOUR CODE HERE\n",
    "raise NotImplementedError()"
   ]
  },
  {
   "cell_type": "code",
   "execution_count": null,
   "id": "2b749f34",
   "metadata": {
    "deletable": false,
    "editable": false,
    "nbgrader": {
     "cell_type": "code",
     "checksum": "2b9dc5298f01152e864b67e5fc510fed",
     "grade": false,
     "grade_id": "cell-47b441370fc3bb8f",
     "locked": true,
     "schema_version": 3,
     "solution": false,
     "task": false
    }
   },
   "outputs": [],
   "source": [
    "print (\"{:<15} {:<20}\\t\\t {:<30}\".format('Clase','Total voxeles por clase','Porcentaje de voxeles por clase'))\n",
    "print ('------------------------------------------------------------------------------------------------')\n",
    "print (\"{:<15} {:<20}\\t\\t {:.4f} %\".format(labels[0],label_0,percentage_label_0))\n",
    "print (\"{:<15} {:<20}\\t\\t {:.4f} %\".format(labels[1],label_1,percentage_label_1))\n",
    "print (\"{:<15} {:<20}\\t\\t {:.4f} %\".format(labels[2],label_2,percentage_label_2))"
   ]
  },
  {
   "cell_type": "code",
   "execution_count": null,
   "id": "ae04d68d",
   "metadata": {
    "deletable": false,
    "editable": false,
    "nbgrader": {
     "cell_type": "code",
     "checksum": "a03b0ad7d0d19c908d31b0d285f5847e",
     "grade": true,
     "grade_id": "cell-2a8f1b940c0ae82b",
     "locked": true,
     "points": 0.2,
     "schema_version": 3,
     "solution": false,
     "task": false
    }
   },
   "outputs": [],
   "source": [
    "assert len(labels)==3, 'Estas contando de más o menos las etiquetas dentro del dataset'\n",
    "assert np.min(labels)==0, 'No estas contando la etiqueta 0'\n",
    "assert np.max(labels)==2, 'No estas contando la etiqueta 2'\n",
    "assert np.isclose(label_0+label_1+label_2,2424832,0.01), 'No esta mirando todo el dataset de entrenamiento'\n",
    "assert np.isclose(label_0,2355666,0.001), f'La cantidad de voxeles de la clase 0 en el volumen de segmentación 0 debería ser 2355666 y es {label_0}'"
   ]
  },
  {
   "cell_type": "markdown",
   "id": "13c2cfc6",
   "metadata": {
    "deletable": false,
    "editable": false,
    "nbgrader": {
     "cell_type": "markdown",
     "checksum": "490cbcdaf261f20a4c1e881ae482dcd5",
     "grade": false,
     "grade_id": "cell-949592a580270268",
     "locked": true,
     "schema_version": 3,
     "solution": false,
     "task": false
    }
   },
   "source": [
    "#### Parte 1.3: Visualización de anotaciones\n",
    "Veamos ahora los datos con los que vamos a trabajar. Sabemos que nuestros datos originales son MRI, son volumenes, pero aun no sabemos como serán nuestras anotaciones. Esto es importante porque, como todo problema de vision por computador, debemos saber cuales son nuestros inputs y cuales queremos que sean nuestros outputs. En la siguiente celda use el volumen original y busque cual es el slice de la anotación (volumen segmentado) que más area de segmentación tiene en cada eje axial. Haga un plot de del corte y de la segmentacion más grande. \n",
    "\n",
    "> **Recuerde:** Tenemos el label del fondo (0) y las demas labels, pero nosotros solo queremos tratar con una segmentación binaria. De ahora en adelante, las labels que son diferentes de 0 serán 1."
   ]
  },
  {
   "cell_type": "code",
   "execution_count": null,
   "id": "45963439",
   "metadata": {
    "deletable": false,
    "nbgrader": {
     "cell_type": "code",
     "checksum": "a60779055392355cc2d86c85d7e12800",
     "grade": false,
     "grade_id": "cell-935bb3352f446a7e",
     "locked": false,
     "schema_version": 3,
     "solution": true,
     "task": false
    }
   },
   "outputs": [],
   "source": [
    "slice_axial='' #Slice con mayor area de higado en el eje axial\n",
    "area_axial='' #Mayor area de higado en eje axial\n",
    "# YOUR CODE HERE\n",
    "raise NotImplementedError()"
   ]
  },
  {
   "cell_type": "code",
   "execution_count": null,
   "id": "4c84c626",
   "metadata": {
    "deletable": false,
    "editable": false,
    "nbgrader": {
     "cell_type": "code",
     "checksum": "da23429764dc9833cc90372b12a96e93",
     "grade": true,
     "grade_id": "cell-e37b7df59d8eb0e6",
     "locked": true,
     "points": 0.3,
     "schema_version": 3,
     "solution": false,
     "task": false
    }
   },
   "outputs": [],
   "source": [
    "assert np.isclose(slice_axial,32,0.01), 'El eje mayor no es el encontrado. El eje axial es la ultima coordenada, la transversal es la segunda y la sagital es la primera'\n",
    "assert np.isclose(np.sum(dict_vols['segmentation_0'][:,:,slice_axial]>0)-area_axial,0), 'El area del higado guardado en la variable no es igual al slice de maxima area determinada'"
   ]
  },
  {
   "cell_type": "markdown",
   "id": "ee1e413f",
   "metadata": {
    "deletable": false,
    "editable": false,
    "nbgrader": {
     "cell_type": "markdown",
     "checksum": "ebe2afd851d82565c7ec15d9ec3d9a77",
     "grade": false,
     "grade_id": "cell-dc346daef8c570a7",
     "locked": true,
     "schema_version": 3,
     "solution": false,
     "task": false
    }
   },
   "source": [
    "### Parte 2: Anotación\n",
    "El problema que queremos tratar es el de la segmentación del higado. La segmentación que realizaremos se basará directamente en las intensidades de nuestra imagen. Un punto a destacar es la diferencia que tenemos con la anterior base de datos, ahora no contamos con imagenes a color y muchos tegidos tendrán una intensidad similar a la de nuestro organo de interes.\n",
    "\n",
    "#### Parte 2.1: Histograma\n",
    "Usted cuenta con volumenes de anotación, si visualizó con cuidado sus anotaciones sabrá que son volumenes de etiquetas (0,1,2 aunque consideramos el 2 y el 1 como una misma etiqueta) Utilice este volumen de anotación para extraer el higado con sus intensidades originales. Posteriormente, realice un plot mostrando el organo y su histograma (no nos importan las intensidades de 0 porque son el fondo). Utilice el volumen 0 y su respectiva segmentación. Debe hacer el histograma para todo el higado, no solo una slice.\n",
    "\n",
    "> - **Nota:** En este caso trabajamos sobre los volumenes crudos de datos, por lo que la escala de los datos tambien incluye numeros negativos.\n",
    "\n",
    "> - **Pista:** Si su volumen de segmentación tiene valores de 0 o 1, si se multiplica cualquier valor por 0, este desaparecerá, y todo aquel voxel que pertenezca a la segmentación será multiplicado por 1 y conservará su intensidad original. Haga el histograma sin tener en cuenta el fondo"
   ]
  },
  {
   "cell_type": "code",
   "execution_count": null,
   "id": "290cdaf4",
   "metadata": {
    "deletable": false,
    "nbgrader": {
     "cell_type": "code",
     "checksum": "0410233e2f080463485b2c1d9f535345",
     "grade": false,
     "grade_id": "cell-802da64e7fab52b2",
     "locked": false,
     "schema_version": 3,
     "solution": true,
     "task": false
    }
   },
   "outputs": [],
   "source": [
    "Higado='' #volumen que contendrá solo el higado de la MRI\n",
    "seg_vol='' #volumen de segmentación binarizado\n",
    "original_vol='' #volumen original\n",
    "# YOUR CODE HERE\n",
    "raise NotImplementedError()"
   ]
  },
  {
   "cell_type": "code",
   "execution_count": null,
   "id": "0a979456",
   "metadata": {
    "deletable": false,
    "editable": false,
    "nbgrader": {
     "cell_type": "code",
     "checksum": "7d25f58bd7285a51cd7f0fd24c3f8f3d",
     "grade": true,
     "grade_id": "cell-3a10f074b299c437",
     "locked": true,
     "points": 0.15,
     "schema_version": 3,
     "solution": false,
     "task": false
    }
   },
   "outputs": [],
   "source": [
    "assert np.max(Higado)<=364, 'Seguramente su segmentación tiene la etiqueta 2'\n",
    "assert np.isclose(np.sum(Higado!=0),69166,0.01), 'El volumen total del higado es incorrecto, no lo esta tomando todo'\n",
    "assert np.isclose(np.mean(Higado),3.396,0.1), f'El valor medio del organo es {np.mean(Higado)} y no deberia ser este, quizá esta normalizando o no está tomando todo el organo'"
   ]
  },
  {
   "cell_type": "markdown",
   "id": "48f99292",
   "metadata": {
    "deletable": false,
    "editable": false,
    "nbgrader": {
     "cell_type": "markdown",
     "checksum": "83beb7d2e7140e3ace88df5c116e58aa",
     "grade": false,
     "grade_id": "cell-991a88fcee9d84b5",
     "locked": true,
     "schema_version": 3,
     "solution": false,
     "task": false
    }
   },
   "source": [
    "#### Parte 2.2: Ruido\n",
    "Un punto importante antes de realizar nuestro modelo de segmentación es el estado de las imagenes. Como utilizaremos las intesidades para realizar nuestra segmentación debemos asegurarnos que no tenemos ruido que afecte nuestras intensidades originales. \n",
    "\n",
    "En este caso vamos a simular la adicion de ruido a nuestro volumen 0. El ruido adicionado será de tipo gausiano y sal/pimienta. Haga un plot del higado segmentado corrupto (mismo slice) y su respectivo histograma."
   ]
  },
  {
   "cell_type": "code",
   "execution_count": null,
   "id": "e1dc16f8",
   "metadata": {
    "deletable": false,
    "editable": false,
    "nbgrader": {
     "cell_type": "code",
     "checksum": "4662f72dad5567e6c241f92d803eea84",
     "grade": false,
     "grade_id": "cell-30ed10cd2d71796e",
     "locked": true,
     "schema_version": 3,
     "solution": false,
     "task": false
    }
   },
   "outputs": [],
   "source": [
    "salt_peper='' #volumen con ruido de sal y pimienta\n",
    "gaussian='' #volumen con ruido gaussiano\n",
    "\n",
    "volume=nib.load(os.path.join('DB','train','volume_0.nii.gz')).get_fdata() #volumen 0\n",
    "\n",
    "np.random.seed(42)\n",
    "\n",
    "gaussian=volume + np.random.normal(0, np.std(volume) * 0.1, volume.shape)  #volumen con ruido gaussiano\n",
    "\n",
    "salt_peper=volume.copy() #volumen con ruido de sal y pimienta\n",
    "p=0.05 #probabilidad de que un pixel se vea afectado por el ruido\n",
    "noise_mask = np.random.choice([0, 1, 2], size=salt_peper.shape,p=[1 - p, p/2, p/2]) #0: sin ruido, 1: sal, 2: pimienta\n",
    "salt_peper[noise_mask == 1] = np.max(volume)  #sal\n",
    "salt_peper[noise_mask == 2] = np.min(volume)  #pimienta"
   ]
  },
  {
   "cell_type": "code",
   "execution_count": null,
   "id": "09237669",
   "metadata": {
    "deletable": false,
    "nbgrader": {
     "cell_type": "code",
     "checksum": "c4c2b4b3f1789a640b0ee5336a880c16",
     "grade": false,
     "grade_id": "cell-e51009b1d437d2bc",
     "locked": false,
     "schema_version": 3,
     "solution": true,
     "task": false
    }
   },
   "outputs": [],
   "source": [
    "Higado_salt_peper='' #volumen que contendrá solo el higado de la MRI con ruido sal y pimienta\n",
    "Higado_gaussian='' #volumen que contendrá solo el higado de la MRI con ruido gaussiano\n",
    "\n",
    "# YOUR CODE HERE\n",
    "raise NotImplementedError()"
   ]
  },
  {
   "cell_type": "code",
   "execution_count": null,
   "id": "70c80d6f",
   "metadata": {
    "deletable": false,
    "editable": false,
    "nbgrader": {
     "cell_type": "code",
     "checksum": "5d55be08c848208f5b86274e86d3f636",
     "grade": true,
     "grade_id": "cell-2e3e7c96b9bfd8a4",
     "locked": true,
     "points": 0.15,
     "schema_version": 3,
     "solution": false,
     "task": false
    }
   },
   "outputs": [],
   "source": [
    "assert np.max(Higado_salt_peper)<=1411, 'Seguramente su segmentación tiene la etiqueta 2'\n",
    "assert np.isclose(np.sum(Higado_salt_peper!=0),69166,0.01), 'El volumen total del higado es incorrecto, no lo esta tomando todo'\n",
    "assert np.isclose(np.mean(Higado_salt_peper),3.5053,0.001), f'El valor medio del organo es {np.mean(Higado)} y no deberia ser este, quizá esta normalizando o no está tomando todo el organo'\n",
    "\n",
    "assert np.max(Higado_gaussian)<=380, 'Seguramente su segmentación tiene la etiqueta 2'\n",
    "assert np.isclose(np.sum(Higado_gaussian!=0),69166,0.01), 'El volumen total del higado es incorrecto, no lo esta tomando todo'\n",
    "assert np.isclose(np.mean(Higado_gaussian),3.3918,0.0001), f'El valor medio del organo es {np.mean(Higado)} y no deberia ser este, quizá esta normalizando o no está tomando todo el organo'"
   ]
  },
  {
   "cell_type": "markdown",
   "id": "60c08187",
   "metadata": {
    "deletable": false,
    "editable": false,
    "nbgrader": {
     "cell_type": "markdown",
     "checksum": "27129258440bee31ab01418c07c510ef",
     "grade": false,
     "grade_id": "cell-dcc425c4e71b7471",
     "locked": true,
     "schema_version": 3,
     "solution": false,
     "task": false
    }
   },
   "source": [
    "### Parte 3: Remoción de ruido\n",
    "Una parte importante a la hora de resolver problemas de vision por computador es el preprocesamiento. El ruido puede tener diversas fuentes y puede corromper la imagen de diferentes formas. Es nuestro trabajo manipular las imagenes de tal forma que sean más faciles de procesar por nuestro algoritmo de predicción. Es tambien muy importante hacer un diseño exhaustivo del procedimiento de filtrado que realizaremos, ya que no todos los filtros nos ayudaran a el procesamiento de las imagenes. Algunos filtros son muy especializados en el tipo de ruido que logrará filtrar, algunos filtros pueden magnificar el ruido o incluso dañar la imagen.\n",
    "\n",
    "#### Parte 3.1: Filtrado lineal\n",
    "\n",
    "Una primera idea puede ser el uso de la cross correlacion para el trabajo del filtrado. Use la función de scipy.signal.correlate y diseñe un filtro medio 3x3. Tambien use la función scipy.ndimage.gaussian_filter para hacer un filtro gaussiano y experimente con el sigma para obtener mejores resultados. Utilice los dos volumenes, extraiga el slice axial encontrado en el punto 1 y use estos filtros, guarde los resultados en variables. Haga un subplot de 4 filas y 3 columnas, en las filas iran los diferentes ruidos con los diferentes filtros (ruido gaussiano con filtro medio, ruido gaussiano con filtro gaussiano, etc.) y en las columnas la imagen original (solo el higado), la imagen procesada y el histograma de la imagen procesada.\n",
    "\n",
    "> - **Nota:** Procese las imagenes orignales y luego si extraiga unicamente el higado, no lo haga al reves. Use el parametro \"same\" para mantener el tamaño de la imagen original."
   ]
  },
  {
   "cell_type": "code",
   "execution_count": null,
   "id": "8b400648",
   "metadata": {
    "deletable": false,
    "nbgrader": {
     "cell_type": "code",
     "checksum": "804e7c8078eaf69c267247b8e694a5da",
     "grade": false,
     "grade_id": "cell-73f9d0e6f35329b3",
     "locked": false,
     "schema_version": 3,
     "solution": true,
     "task": false
    }
   },
   "outputs": [],
   "source": [
    "media_filter='' #arreglo ndarray del filtro medio\n",
    "\n",
    "media_salt_peper='' #slice de ruido sal y pimienta filtrado con filtro medio\n",
    "gaussian_salt_peper='' #slice de ruido sal y pimienta filtrado con filtro gaussiano, sigma 3\n",
    "media_gaussian='' #slice de ruido gaussiano filtrado con filtro medio\n",
    "gaussian_gaussian='' #slice de ruido gaussiano filtrado con filtro gaussiano, sigma 3\n",
    "\n",
    "gaussian_salt_peper_higado='' #slice de ruido sal y pimienta filtrado con filtro gaussiano solo del higado\n",
    "gaussian_gaussian_higado='' #slice de ruido gaussiano filtrado con filtro gaussiano solo del higado\n",
    "media_salt_peper_higado='' #slice de ruido sal y pimienta filtrado con filtro medio solo del higado\n",
    "media_gaussian='' #slice de ruido gaussiano filtrado con filtro medio solo del higado\n",
    "\n",
    "# YOUR CODE HERE\n",
    "raise NotImplementedError()"
   ]
  },
  {
   "cell_type": "code",
   "execution_count": null,
   "id": "25f6ebf2",
   "metadata": {
    "deletable": false,
    "editable": false,
    "nbgrader": {
     "cell_type": "code",
     "checksum": "8c26e562a9301725222e664e3ac9c44e",
     "grade": true,
     "grade_id": "cell-03eb68701d71bcc4",
     "locked": true,
     "points": 0.2,
     "schema_version": 3,
     "solution": false,
     "task": false
    }
   },
   "outputs": [],
   "source": [
    "assert np.isclose(np.sum(media_filter), 1), 'La suma de todos los elementos del filtro deben sumar 1'\n",
    "assert np.sum(media_filter==1/(3*3*3))==27, 'Su filtro medio esta mal construido'\n",
    "x,y,z=gaussian_salt_peper_higado.shape"
   ]
  },
  {
   "cell_type": "markdown",
   "id": "1bdf8fac",
   "metadata": {
    "deletable": false,
    "editable": false,
    "nbgrader": {
     "cell_type": "markdown",
     "checksum": "a360bb202700e963d7fbb43e9dd9db66",
     "grade": false,
     "grade_id": "cell-2f17b720416ac25b",
     "locked": true,
     "schema_version": 3,
     "solution": false,
     "task": false
    }
   },
   "source": [
    "#### Parte 3.2: Filtrado no lineal\n",
    "El filtrado lineal nos es muy util para obtener caracteristicas visuales de las imagenes y tambien para reducir cierto tipo de ruido. Sin embargo, pudieron observar cualitativamente las limitaciones de este tipo de filtrado. Una idea interesante puede ser el uso de filtrado no lineal para la eliminación de ruido y menor destrucción de la imagen original. Use los filtros maximo, minimo, mediano y mediano adaptativo para remover el ruido de las imagenes del anterior punto (puede usar la implementación del tutorial) haga una función que pueda hacer todos estos filtros segun se indique por parametro, tome en cuenta la condición de frontera como 0s. Haga un subplot de 2 filas 5 columnas, donde las filas son los diferentes ruidos y las columnas son la imagen original y los 4 tipos de filtros."
   ]
  },
  {
   "cell_type": "code",
   "execution_count": null,
   "id": "19365924",
   "metadata": {
    "deletable": false,
    "nbgrader": {
     "cell_type": "code",
     "checksum": "5f695ab0717b16d7c73f054c38d4f914",
     "grade": false,
     "grade_id": "cell-f44b24c9bc8759d3",
     "locked": false,
     "schema_version": 3,
     "solution": true,
     "task": false
    }
   },
   "outputs": [],
   "source": [
    "# Filtro adaptativo de mediana\n",
    "# YOUR CODE HERE\n",
    "raise NotImplementedError()\n",
    "\n",
    "def No_linear_filter(Im,filter_type,window,max_window=3):\n",
    "    # YOUR CODE HERE\n",
    "    raise NotImplementedError()"
   ]
  },
  {
   "cell_type": "code",
   "execution_count": null,
   "id": "1d322172",
   "metadata": {
    "deletable": false,
    "editable": false,
    "nbgrader": {
     "cell_type": "code",
     "checksum": "cf5f50350e8cecb03576488ad90a2e47",
     "grade": false,
     "grade_id": "cell-8877ffe2149641cc",
     "locked": true,
     "schema_version": 3,
     "solution": false,
     "task": false
    }
   },
   "outputs": [],
   "source": [
    "Max_salt_peper = No_linear_filter(salt_peper, 'min', 3)\n",
    "Min_salt_peper = No_linear_filter(salt_peper, 'max', 3)\n",
    "Median_salt_peper = No_linear_filter(salt_peper, 'median', 3)\n",
    "MedianAdapt_salt_peper = No_linear_filter(salt_peper, 'median_adapt', 3, 7)\n",
    "\n",
    "Max_gaussian = No_linear_filter(gaussian, 'min', 3)\n",
    "Min_gaussian = No_linear_filter(gaussian, 'max', 3)\n",
    "Median_gaussian = No_linear_filter(gaussian, 'median', 3)\n",
    "MedianAdapt_gaussian = No_linear_filter(gaussian, 'median_adapt', 3, 7)"
   ]
  },
  {
   "cell_type": "markdown",
   "id": "b4281e01",
   "metadata": {
    "deletable": false,
    "editable": false,
    "nbgrader": {
     "cell_type": "markdown",
     "checksum": "957f4bec0d0e6ab5c27a23683f3f883b",
     "grade": false,
     "grade_id": "cell-6ab66e0c9cc6b10f",
     "locked": true,
     "schema_version": 3,
     "solution": false,
     "task": false
    }
   },
   "source": [
    "#### Parte 3.3 Evaluación cuantitativa\n",
    "\n",
    "Hemos podido experimentar con los diferentes filtros que tenemos a nuestra disposición obteniendo resultados mejores o peores. La comparación que hemos podido tener es meramente cualitativa, sin embargo, contamos con una herramienta que nos permite saber que tan eficaz ha sido nuestro filtrado, el PSNR. Cree una función que entre como parametro 2 imagenes de un solo canal y retorne su PSNR. Considere el maximo de la imagen como 1."
   ]
  },
  {
   "cell_type": "code",
   "execution_count": null,
   "id": "7224e723",
   "metadata": {
    "deletable": false,
    "nbgrader": {
     "cell_type": "code",
     "checksum": "25697e397fb96e7c0f3c73563f2ee06c",
     "grade": false,
     "grade_id": "cell-43380e2b29a21a51",
     "locked": false,
     "schema_version": 3,
     "solution": true,
     "task": false
    }
   },
   "outputs": [],
   "source": [
    "def PSNR(Im,Filtered):\n",
    "    '''\n",
    "    :param Im: Imagen oringinal.\n",
    "    :param Filtered: Imagen filtrada.\n",
    "    '''\n",
    "    # YOUR CODE HERE\n",
    "    raise NotImplementedError()\n",
    "    return result"
   ]
  },
  {
   "cell_type": "code",
   "execution_count": null,
   "id": "3f619ff6",
   "metadata": {
    "deletable": false,
    "editable": false,
    "nbgrader": {
     "cell_type": "code",
     "checksum": "f579bf5cd4d95c5023ea64811cde18fb",
     "grade": false,
     "grade_id": "cell-4999dc8919e055f1",
     "locked": true,
     "schema_version": 3,
     "solution": false,
     "task": false
    }
   },
   "outputs": [],
   "source": [
    "Value_salt_peper_media=PSNR(original_vol,media_salt_peper)\n",
    "Value_salt_peper_gaussian=PSNR(original_vol,gaussian_salt_peper)\n",
    "Value_salt_peper_max=PSNR(original_vol,Max_salt_peper)\n",
    "Value_salt_peper_min=PSNR(original_vol,Min_salt_peper)\n",
    "Value_salt_peper_median=PSNR(original_vol,Median_salt_peper)\n",
    "Value_salt_peper_medianAdapt=PSNR(original_vol,MedianAdapt_salt_peper)\n",
    "\n",
    "Value_gaussian_media=PSNR(original_vol,media_gaussian)\n",
    "Value_gaussian_gaussian=PSNR(original_vol,gaussian_gaussian)\n",
    "Value_gaussian_max=PSNR(original_vol,Max_gaussian)\n",
    "Value_gaussian_min=PSNR(original_vol,Min_gaussian)\n",
    "Value_gaussian_median=PSNR(original_vol,Median_gaussian)\n",
    "Value_gaussian_medianAdapt=PSNR(original_vol,MedianAdapt_gaussian)"
   ]
  },
  {
   "cell_type": "code",
   "execution_count": null,
   "id": "136d8a01",
   "metadata": {
    "deletable": false,
    "editable": false,
    "nbgrader": {
     "cell_type": "code",
     "checksum": "3689175c3d88ea6437b609b99bf6d33f",
     "grade": true,
     "grade_id": "cell-f472dd5e541ef933",
     "locked": true,
     "points": 0.5,
     "schema_version": 3,
     "solution": false,
     "task": false
    }
   },
   "outputs": [],
   "source": [
    "arreglo=np.arange(0,27).reshape((3,3,3))\n",
    "assert np.isclose(PSNR(arreglo,arreglo[::-1]),-23.34,0.1), f'Su función de PSNR no funciona como debería, el PSNR de esta muestra debería ser -23.34 y es {PSNR(arreglo,arreglo[::-1])}'\n",
    "assert Value_salt_peper_median>Value_salt_peper_media, 'El filtro mediano en sal y pimienta no es el mejor filtro'\n",
    "assert Value_gaussian_median>Value_gaussian_max, 'El filtro mediano en ruido gaussiano no es el mejor filtro'\n",
    "assert Value_gaussian_median>Value_gaussian_medianAdapt, 'El filtro mediano en ruido gaussiano no es el mejor filtro'\n",
    "\n",
    "assert np.isclose(Value_salt_peper_media,-42.4,0.01), 'Filtro mal su volumen de sal y pimienta con el filtro medio'\n",
    "assert np.isclose(Value_salt_peper_gaussian,-42.58,0.01), 'Filtro mal su volumen de sal y pimienta con el filtro gaussiano'\n",
    "assert np.isclose(Value_salt_peper_max,-54.16,0.01), 'Filtro mal su volumen de sal y pimienta con el filtro maximo'\n",
    "assert np.isclose(Value_salt_peper_median,-34.83,0.01), 'Filtro mal su volumen de sal y pimienta con el filtro mediano'\n",
    "assert np.isclose(Value_gaussian_median,-34.97,0.01), 'Filtro mal su volumen gaussiano con el filtro mediano'\n",
    "assert np.isclose(Value_salt_peper_medianAdapt,-37.99,0.01), 'Filtro mal su volumen sal y pimienta con el filtro mediano adaptativo'"
   ]
  },
  {
   "cell_type": "markdown",
   "id": "f0418a4d",
   "metadata": {
    "deletable": false,
    "editable": false,
    "nbgrader": {
     "cell_type": "markdown",
     "checksum": "1aae137f92244b4d765eeb6e15918f4a",
     "grade": false,
     "grade_id": "cell-d918f6a5fc15b94d",
     "locked": true,
     "schema_version": 3,
     "solution": false,
     "task": false
    }
   },
   "source": [
    "### Parte 4: Segmentación\n",
    "Ahora, determinaremos cual será nuestro baseline este miniproyecto para segmentar el higado. Lo primero que debemos determinar será nuestra metodología de evaluación."
   ]
  },
  {
   "cell_type": "markdown",
   "id": "cb7724e7",
   "metadata": {
    "deletable": false,
    "editable": false,
    "nbgrader": {
     "cell_type": "markdown",
     "checksum": "461560384fd2ab4c83ee3fc017f7bc7d",
     "grade": false,
     "grade_id": "cell-f879b1c9dce368bb",
     "locked": true,
     "schema_version": 3,
     "solution": false,
     "task": false
    }
   },
   "source": [
    "#### Parte 4.1: Jaccard 3D\n",
    "Nuestra segmentación no es una imagen binaria, recuerde que estamos tratando con volumenes. En esta ocasión tendremos un volumen de segmentación. El cambio de output y de groundtruth requiere un cambio de métrica de evaluación, ya no podemos usar un Jaccard en 2D como siempre hemos hecho, tampoco podemos hacer un promedio de Jaccards en 2D. Implemente una función de Jaccard 3D que ingrese como parametro el volumen de predicción y el volumen de groundtruth y retorne el indice de Jaccard.\n",
    "\n",
    "> **Recuerde:** La segmentación de groundtruth tiene 3 diferentes labels, usted quiere una segmentación binaria. Considere el label 1 y 2 como uno mismo.\n",
    "\n",
    "Cree una función que retorne la precisión, la cobertura y la F-medida dado un volumen de predicción y uno de anotación. Tenga en cuenta los problemas con la división entre 0 (tome epsilon como 1x10^-6)"
   ]
  },
  {
   "cell_type": "code",
   "execution_count": null,
   "id": "9fc56b13",
   "metadata": {
    "deletable": false,
    "nbgrader": {
     "cell_type": "code",
     "checksum": "00e46acf56287ea24cac4e92204e5014",
     "grade": false,
     "grade_id": "cell-ac36f0ee7b5d04e6",
     "locked": false,
     "schema_version": 3,
     "solution": true,
     "task": false
    }
   },
   "outputs": [],
   "source": [
    "def Jaccard_3D(Im,Gt):\n",
    "    '''\n",
    "    :param Im: Volumen de prediccion.\n",
    "    :param Gt: Segmentacion groundtruth.\n",
    "    '''\n",
    "    # YOUR CODE HERE\n",
    "    raise NotImplementedError()\n",
    "    return J\n",
    "\n",
    "def P_C_F_3D(Im,Gt):\n",
    "    '''\n",
    "    :param Im: Volumen de prediccion.\n",
    "    :param Gt: Segmentacion groundtruth.\n",
    "    '''\n",
    "    # YOUR CODE HERE\n",
    "    raise NotImplementedError()\n",
    "    return Precision,Recall,Fscore"
   ]
  },
  {
   "cell_type": "code",
   "execution_count": null,
   "id": "dc8d4416",
   "metadata": {
    "deletable": false,
    "editable": false,
    "nbgrader": {
     "cell_type": "code",
     "checksum": "9bf34ba1cd6eb9e896daa98adf95b138",
     "grade": true,
     "grade_id": "cell-0e876058ee00d6bd",
     "locked": true,
     "points": 0.3,
     "schema_version": 3,
     "solution": false,
     "task": false
    }
   },
   "outputs": [],
   "source": [
    "assert np.isclose(Jaccard_3D(original_vol>100,seg_vol),0.305,0.01), 'El Jaccard 3D no da los resultados que debe, recuerde que no es lo mismo que un Jaccard 2D promediado'\n",
    "P,C,F=P_C_F_3D(original_vol>100,seg_vol)\n",
    "assert P<C, 'La precisión debe ser menor que la cobertura'\n",
    "assert F<C and F>P, 'La F medida debe ser menor que la cobertura y mayor que la precisión'\n",
    "assert np.isclose(F,0.47,0.01), 'La F medida esta mal calculada'"
   ]
  },
  {
   "cell_type": "markdown",
   "id": "8cbd4e50",
   "metadata": {
    "deletable": false,
    "editable": false,
    "nbgrader": {
     "cell_type": "markdown",
     "checksum": "62a4422439011e8175c2861d357aef42",
     "grade": false,
     "grade_id": "cell-c4928babfe44de53",
     "locked": true,
     "schema_version": 3,
     "solution": false,
     "task": false
    }
   },
   "source": [
    "#### Parte 4.2: Elemento conexo\n",
    "La metodología que utilizaremos para segmentar se basará en las intensidades, sin embargo, muchos tejidos tienen intensidades similares a nuestro organo de interes, lo que resulta en muchos falsos positivos. La idea será umbralizar nuestro volumen, posteriormente nos quedaremos con el componente conexo más grande. \n",
    "\n",
    "La función vol_max_component será una función a la que entraran 3 parámetros. El volumen a segmentar, un valor máximo y un valor mínimo. Lo primero a realizar es umbralizar el volumen utilizando el valor máximo, es decir, que todos los voxeles que tengan una intensidad menor a ese valor serán 1 y todas las demás serán 0. Luego, se umbralizará el volumen utilizando el valor mínimo, es decir, que todos los voxeles que tengan una intensidad mayor a ese valor serán 1 y todas las demás serán 0. Posteriormente, calcularemos la intersección entre esos dos volúmenes. Finalmente, hallaremos el elemento conexo más grande de la intersección previamente calculada.\n",
    "\n",
    "> - Para determinar el mayor elemento conexo, use skimage.measure.label. Esta función le dará una label a cada elemento conexo, es decir que cambiará su intensidad por un numero de 1 a N siendo N la cantidad de elementos conexos. Puede usar np.sum junto con algun operador logico para determinar el area de cada elemento conexo. La mayor label no necesariamente es el mayor elemento conexo. El fondo es el mayor elemento conexo, no lo tenga en cuenta!"
   ]
  },
  {
   "cell_type": "code",
   "execution_count": null,
   "id": "acabe607",
   "metadata": {
    "deletable": false,
    "nbgrader": {
     "cell_type": "code",
     "checksum": "9d5d954009820dc0775f1eac764897c1",
     "grade": false,
     "grade_id": "cell-c4ea9649e8963f87",
     "locked": false,
     "schema_version": 3,
     "solution": true,
     "task": false
    }
   },
   "outputs": [],
   "source": [
    "def vol_max_component(volume, max=1, min=0):\n",
    "    \"\"\"Esta función realiza la segmentación mediante elemento conexo más grande en 3D\n",
    "\n",
    "    Args:\n",
    "        volume (np.ndarray): Volumen a segmentar\n",
    "        max (float | None): Limite inferior para realizar la segmentación\n",
    "        min (float | None): Limite superior para realiza la segmentación\n",
    "\n",
    "    Return:\n",
    "        (np.ndarray): Volumen segmentado\n",
    "    \"\"\"\n",
    "    segment_vol = \"\" # Volumen segmentado\n",
    "    # YOUR CODE HERE\n",
    "    raise NotImplementedError()\n",
    "    return segment_vol"
   ]
  },
  {
   "cell_type": "code",
   "execution_count": null,
   "id": "783e9471",
   "metadata": {
    "deletable": false,
    "editable": false,
    "nbgrader": {
     "cell_type": "code",
     "checksum": "b47642675182e2d802c726f606e2f80a",
     "grade": true,
     "grade_id": "cell-7d4f8ab2f485e83e",
     "locked": true,
     "points": 0.3,
     "schema_version": 3,
     "solution": false,
     "task": false
    }
   },
   "outputs": [],
   "source": [
    "higado_umbral=(original_vol>-30) & (original_vol<220)\n",
    "higado_seg=vol_max_component(original_vol,220,-30)\n",
    "               \n",
    "fig,ax=plt.subplots(1,2)\n",
    "ax[1].imshow(higado_umbral[..., 32], cmap = 'gray')\n",
    "ax[1].axis('off')\n",
    "ax[0].set_title('Maximo componente conexo')\n",
    "ax[0].imshow(higado_seg[..., 32], cmap = 'gray')\n",
    "ax[0].axis('off')\n",
    "ax[1].set_title('Umbralización 220 > x > -30')\n",
    "plt.show()\n",
    "\n",
    "assert np.sum((1-higado_umbral)*higado_seg)==0, 'Usted segmentó el fondo'\n",
    "assert np.isclose(np.sum(higado_seg),574552,0.01), 'El elemento conexo segmentado no es el maximo'"
   ]
  },
  {
   "cell_type": "markdown",
   "id": "eef0c36a",
   "metadata": {
    "deletable": false,
    "editable": false,
    "nbgrader": {
     "cell_type": "markdown",
     "checksum": "242d408e474f302ffb6c7167db3e6315",
     "grade": false,
     "grade_id": "cell-541060b5a06175be",
     "locked": true,
     "schema_version": 3,
     "solution": false,
     "task": false
    }
   },
   "source": [
    "Utilizando esta metodología de segmentación, encuentre el mejor umbral para obtener la mejor segmentación posible. Pongalo en su reporte junto con algunos ejemplos buenos y malos de su implementación. Busque las partes donde el higado se segmenta bien y partes donde no se segmenta el higado."
   ]
  },
  {
   "cell_type": "code",
   "execution_count": null,
   "id": "82252073",
   "metadata": {},
   "outputs": [],
   "source": []
  },
  {
   "cell_type": "markdown",
   "id": "19ac382b",
   "metadata": {
    "deletable": false,
    "editable": false,
    "nbgrader": {
     "cell_type": "markdown",
     "checksum": "48cd0b99adb0fd4cfc545f77b2325d86",
     "grade": false,
     "grade_id": "cell-bdfe5b889e2bfcb0",
     "locked": true,
     "schema_version": 3,
     "solution": false,
     "task": false
    }
   },
   "source": [
    "## Entregables\n",
    "Los entregables para esta entrega son un Jupyter notebook (.ipynb), un informe (.pdf) y un archivo de texto (.txt).\n",
    "\n",
    "El Jupyter notebook debe estar completamente resuelto. Recuerde que la nota depende del funcionamiento de su código. El archivo de texto corresponde a las secciones de código de su Jupyter notebook.\n",
    "\n",
    "En este miniproyecto debe hacer un informe con Introducción, Resultados y análisis, y Conclusiones respondiendo las preguntas en las secciones donde usted crea pertinente responderlas. Toda la información sobre secciones, preguntas y elementos adicionales está en la siguiente sección de informe. El informe debe utilizar el formato que puede encontrar siguiente [enlace](https://github.com/cvpr-org/author-kit). Si tiene dudas de cómo utilizar el formato puede preguntar al Asistente Graduado.\n",
    "\n",
    "## Informe:\n",
    "En esta ocasión, no responderemos unicamente las preguntas sino que comenzaremos a familiarizarnos con la estructura de un informe de visión por computador. En este miniproyecto debe hacer un informe con Introducción, Resultados y análisis, y Conclusiones respondiendo las preguntas en las secciones donde usted crea pertinente responderlas. La extensión máxima del informe es 4 páginas.\n",
    "\n",
    "### Exploración de base de datos:\n",
    "* ¿Este problema de segmentación es desbalanceado? Dado nuestro último método con elemento conexo más grande,¿Qué el problema esté desbalanceado puede afectar el desempeño?\n",
    "* Teniendo en cuenta la cantidad de datos ¿Cree usted que un analisis pixel a pixel es eficiente para realizar una segmentación de todos nuestros datos? **Nota**: Tenga en cuenta que para las entregas posteriores el número de volúmenes será mayor.\n",
    "\n",
    "### Anotación\n",
    "* Describa lo que puede observar en los histogramas y volúmenes con ruido, filtrados y originales.\n",
    "* Teniendo en cuenta los histogramas ¿Qué umbral sería adeacuado para realizar la umbralización?\n",
    "\n",
    "### Remoción de ruido:\n",
    "* ¿Que tipo de ruido es más comun en las imagenes medicas?\n",
    "* ¿Cuales filtros dañaron más su imagen? ¿Por que sucede esto?\n",
    "\n",
    "### Segmentación:\n",
    "* ¿Porque la metrica de Jaccard 3D no es igual que la de Jaccard 2D promediado? De una explicación matemática.\n",
    "* Teniendo en cuenta las metricas de Jaccard 3D, precisión y cobertura responda ¿Porque es necesario establecer una métrica de evaluación acorde a nuestro probelma principal? ¿Son todas estas métricas compatibles? ¿La precisión o la cobertura por si solas serían adecuadas para evaluar el problema? Conteste esta pregunta teniendo en cuenta el desbalance de datos.\n",
    "* ¿Que organos o estructuras del cuerpo son problematicas para nuestra metodología de segmentación? Grafiquelas."
   ]
  },
  {
   "cell_type": "code",
   "execution_count": null,
   "id": "a71dd530",
   "metadata": {},
   "outputs": [],
   "source": [
    "from utils import *\n",
    "# converter(\"Entrega 1\")"
   ]
  }
 ],
 "metadata": {
  "kernelspec": {
   "display_name": "Python [conda env:base] *",
   "language": "python",
   "name": "conda-base-py"
  },
  "language_info": {
   "codemirror_mode": {
    "name": "ipython",
    "version": 3
   },
   "file_extension": ".py",
   "mimetype": "text/x-python",
   "name": "python",
   "nbconvert_exporter": "python",
   "pygments_lexer": "ipython3",
   "version": "3.12.3"
  }
 },
 "nbformat": 4,
 "nbformat_minor": 5
}
